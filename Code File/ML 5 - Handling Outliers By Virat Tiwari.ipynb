{
 "cells": [
  {
   "cell_type": "markdown",
   "id": "2bda503e-3e7e-4ceb-a89e-f037f20c2a8f",
   "metadata": {},
   "source": [
    "# HANDLING OUTLIERS"
   ]
  },
  {
   "cell_type": "markdown",
   "id": "c00241d4-575d-415e-a6cb-cf1198d2c4b5",
   "metadata": {},
   "source": [
    "Outliers - Outliers distribution is totally different from the data distribution like in a dataset some datapoints are avilable in corner or some other place where they make there own distribution and thats distribution is  called outliers .\n",
    "\n",
    "Ex ) Dataset - {1,2,3,6,5,4,100,200}\n",
    "\n",
    "In this Dataset 100 and 200 are totally different from remaining datapoints so these two are our OUTLIERS .\n"
   ]
  },
  {
   "cell_type": "markdown",
   "id": "7370d96d-6990-463a-8378-5e99af2ad999",
   "metadata": {},
   "source": [
    "Why we use \" Handling outliers \" - Outliers major impact the machine learning algorithm specifically linear regression some other algorithms due to which model reduce its accuracy and doesn't give high accuracy "
   ]
  },
  {
   "cell_type": "markdown",
   "id": "c73e31bc-22f9-4f04-bf09-9baf7c1d90fe",
   "metadata": {},
   "source": [
    "TYPE 1 - 5 NUMBER SUMMARY CONCEPT -\n",
    "\n",
    "1 ) MINIMUM VALUE,\n",
    "\n",
    "\n",
    "2 ) Q1-25 PERCENTILE ,\n",
    "\n",
    "\n",
    "3 ) MEDIAN ,\n",
    "\n",
    "\n",
    "4 ) Q3-75 PERCENTILE ,\n",
    "\n",
    "\n",
    "5 ) MAXIMUM ,\n",
    "\n",
    "\n",
    "NOTE - BY CALCULATING ALL THESE 5 THINGS WE EASILY IDENTIFY THE OUTLIERS IN ANY DATASET "
   ]
  },
  {
   "cell_type": "code",
   "execution_count": 1,
   "id": "9d54c13d-f5de-4ed1-afac-a8db16366aee",
   "metadata": {},
   "outputs": [],
   "source": [
    "# we import numpy that efficient for calculations\n",
    "\n",
    "# Here we make a \"list_marks\" a dataset\n",
    "\n",
    "import numpy as np\n",
    "list_marks=[21,25,23,54,63,48,56,94,30,10,64,97,24,56,88,13,64,69,23,50,500,600,840,750]"
   ]
  },
  {
   "cell_type": "code",
   "execution_count": 2,
   "id": "4d8e5563-07f3-4ef8-a306-bb1ca8d3e9c9",
   "metadata": {},
   "outputs": [
    {
     "data": {
      "text/plain": [
       "24"
      ]
     },
     "execution_count": 2,
     "metadata": {},
     "output_type": "execute_result"
    }
   ],
   "source": [
    "# len ( ) function is used for find the length of list or dataset\n",
    "\n",
    "len(list_marks)"
   ]
  },
  {
   "cell_type": "code",
   "execution_count": 3,
   "id": "d8eb69da-14d7-473c-9d01-1e57ac7c0a6a",
   "metadata": {},
   "outputs": [
    {
     "data": {
      "text/plain": [
       "array([840.])"
      ]
     },
     "execution_count": 3,
     "metadata": {},
     "output_type": "execute_result"
    }
   ],
   "source": [
    "# np.percentile ( ) function is used for getting the percentile of numbers\n",
    "\n",
    "# This function is built in function provided by numpy\n",
    "\n",
    "np.percentile(list_marks,[100])"
   ]
  },
  {
   "cell_type": "code",
   "execution_count": 4,
   "id": "ebaa4c73-5618-446d-9a97-a808a70da8a4",
   "metadata": {},
   "outputs": [
    {
     "name": "stdout",
     "output_type": "stream",
     "text": [
      "[24.75]\n"
     ]
    }
   ],
   "source": [
    "# We store np.percentile ( ) function in a variable \"q1\"\n",
    "\n",
    "q1=np.percentile(list_marks,[25])\n",
    "print(q1)"
   ]
  },
  {
   "cell_type": "code",
   "execution_count": 5,
   "id": "096bf06d-c8ab-4349-8a76-5c8c06af0006",
   "metadata": {},
   "outputs": [],
   "source": [
    "# We create a lower fance and higher fance\n",
    "\n",
    "# np.quantile ( ) is used for quantilastion od data in four parts that are \"minimum,q1,q2,q3,maximum\"\n",
    "\n",
    "minimum,q1,q2,q3,maximum=np.quantile(list_marks,[0,0.25,0.50,0.75,1.0])"
   ]
  },
  {
   "cell_type": "code",
   "execution_count": 6,
   "id": "c8646f6c-d8f1-4c41-8b3a-f807052c0d11",
   "metadata": {},
   "outputs": [
    {
     "data": {
      "text/plain": [
       "840.0"
      ]
     },
     "execution_count": 6,
     "metadata": {},
     "output_type": "execute_result"
    }
   ],
   "source": [
    "# maximum value\n",
    "\n",
    "maximum"
   ]
  },
  {
   "cell_type": "code",
   "execution_count": 7,
   "id": "54d399a4-b775-4269-8870-39968b0c3914",
   "metadata": {},
   "outputs": [
    {
     "data": {
      "text/plain": [
       "10.0"
      ]
     },
     "execution_count": 7,
     "metadata": {},
     "output_type": "execute_result"
    }
   ],
   "source": [
    "# minimum value\n",
    "\n",
    "minimum"
   ]
  },
  {
   "cell_type": "code",
   "execution_count": 8,
   "id": "bd9244f6-2a20-4c8d-bdb5-15eeae406eef",
   "metadata": {},
   "outputs": [
    {
     "data": {
      "text/plain": [
       "24.75"
      ]
     },
     "execution_count": 8,
     "metadata": {},
     "output_type": "execute_result"
    }
   ],
   "source": [
    "# lowest value\n",
    "\n",
    "q1"
   ]
  },
  {
   "cell_type": "code",
   "execution_count": 9,
   "id": "7cbf832a-3171-4152-9402-4e40d9881835",
   "metadata": {},
   "outputs": [
    {
     "data": {
      "text/plain": [
       "56.0"
      ]
     },
     "execution_count": 9,
     "metadata": {},
     "output_type": "execute_result"
    }
   ],
   "source": [
    "q2"
   ]
  },
  {
   "cell_type": "code",
   "execution_count": 10,
   "id": "499c07e1-22c1-4d85-b9ab-62180ebf1a8b",
   "metadata": {},
   "outputs": [
    {
     "data": {
      "text/plain": [
       "89.5"
      ]
     },
     "execution_count": 10,
     "metadata": {},
     "output_type": "execute_result"
    }
   ],
   "source": [
    "q3"
   ]
  },
  {
   "cell_type": "code",
   "execution_count": 11,
   "id": "a90899b3-d2a4-4dcf-8d40-21629c18447e",
   "metadata": {},
   "outputs": [
    {
     "name": "stdout",
     "output_type": "stream",
     "text": [
      "64.75\n"
     ]
    }
   ],
   "source": [
    "# IQR stads for \"Interquartile range\" - It is the range between the first and third quartiles namely q1 and q3\n",
    "\n",
    "IQR=q3-q1\n",
    "print(IQR)"
   ]
  },
  {
   "cell_type": "code",
   "execution_count": 12,
   "id": "002b48bc-73d1-42f4-9614-da73e568efdd",
   "metadata": {},
   "outputs": [],
   "source": [
    "# lower amd higher fence cordon off outliers from the bulk of data in set\n",
    "\n",
    "lower_fence=q1-1.5*(IQR)\n",
    "higher_fence=q3+1.5*(IQR)"
   ]
  },
  {
   "cell_type": "code",
   "execution_count": 13,
   "id": "a7360409-a014-4aa1-a929-558373c7b046",
   "metadata": {},
   "outputs": [
    {
     "data": {
      "text/plain": [
       "(-72.375, 186.625)"
      ]
     },
     "execution_count": 13,
     "metadata": {},
     "output_type": "execute_result"
    }
   ],
   "source": [
    "# Here we see lower and higher fence that shows the point like rhe values below -72.375 and value above 186.625 are the outliers \n",
    "\n",
    "lower_fence,higher_fence"
   ]
  },
  {
   "cell_type": "code",
   "execution_count": 14,
   "id": "9d5fe6a0-1f50-450b-9241-ec43097a48eb",
   "metadata": {},
   "outputs": [
    {
     "name": "stdout",
     "output_type": "stream",
     "text": [
      "This elemnt is not an outlier\n",
      "This elemnt is not an outlier\n",
      "This elemnt is not an outlier\n",
      "This elemnt is not an outlier\n",
      "This elemnt is not an outlier\n",
      "This elemnt is not an outlier\n",
      "This elemnt is not an outlier\n",
      "This elemnt is not an outlier\n",
      "This elemnt is not an outlier\n",
      "This elemnt is not an outlier\n",
      "This elemnt is not an outlier\n",
      "This elemnt is not an outlier\n",
      "This elemnt is not an outlier\n",
      "This elemnt is not an outlier\n",
      "This elemnt is not an outlier\n",
      "This elemnt is not an outlier\n",
      "This elemnt is not an outlier\n",
      "This elemnt is not an outlier\n",
      "This elemnt is not an outlier\n",
      "This elemnt is not an outlier\n"
     ]
    }
   ],
   "source": [
    "outlier=[]\n",
    "for i in list_marks:\n",
    "    if i>=-72.375 and i<=186.625:\n",
    "        print(\"This elemnt is not an outlier\")\n",
    "    else:\n",
    "        outlier.append(i)"
   ]
  },
  {
   "cell_type": "code",
   "execution_count": 15,
   "id": "c03a5183-0e40-4314-b5d1-e11c42207cef",
   "metadata": {},
   "outputs": [
    {
     "data": {
      "text/plain": [
       "[500, 600, 840, 750]"
      ]
     },
     "execution_count": 15,
     "metadata": {},
     "output_type": "execute_result"
    }
   ],
   "source": [
    "outlier"
   ]
  },
  {
   "cell_type": "markdown",
   "id": "bbca3ad9-dfc0-4aa3-af13-509937d97608",
   "metadata": {},
   "source": [
    "TYPE 2 - BOXPLOT"
   ]
  },
  {
   "cell_type": "markdown",
   "id": "e7ee2de9-0c79-4edf-818f-09ea8e970964",
   "metadata": {},
   "source": [
    "BOXPLOT - IT GIVES THE OUTLIERS AUTOMATICALLY BECOUSE IT CALCULATE EACH AND EVRYTHING INCLUDING PERCENTILE INSIDE IT"
   ]
  },
  {
   "cell_type": "code",
   "execution_count": 16,
   "id": "8922c487-40a6-41f5-928a-2608b6b02fe9",
   "metadata": {},
   "outputs": [],
   "source": [
    "# seaborn is used for visualizing the data in plot\n",
    "\n",
    "import  seaborn as sns"
   ]
  },
  {
   "cell_type": "code",
   "execution_count": 17,
   "id": "ee2ea1af-fe83-4090-90d1-310ba016a69a",
   "metadata": {},
   "outputs": [
    {
     "data": {
      "text/plain": [
       "<AxesSubplot: >"
      ]
     },
     "execution_count": 17,
     "metadata": {},
     "output_type": "execute_result"
    },
    {
     "data": {
      "image/png": "[encoded data removed]",
      "text/plain": [
       "<Figure size 640x480 with 1 Axes>"
      ]
     },
     "metadata": {},
     "output_type": "display_data"
    }
   ],
   "source": [
    "# 4 dotes shows the outliers \n",
    "\n",
    "# sns.bpxplot  ( ) function is used for showing the outliers in a boxplot or in graph manner\n",
    "\n",
    "sns.boxplot(list_marks)"
   ]
  },
  {
   "cell_type": "markdown",
   "id": "c5577299-d3a6-439d-95f7-a704b94deeab",
   "metadata": {},
   "source": [
    "THANK YOU SO MUCH !!\n",
    "\n",
    "VIRAT TIWARI :)"
   ]
  }
 ],
 "metadata": {
  "kernelspec": {
   "display_name": "Python 3 (ipykernel)",
   "language": "python",
   "name": "python3"
  },
  "language_info": {
   "codemirror_mode": {
    "name": "ipython",
    "version": 3
   },
   "file_extension": ".py",
   "mimetype": "text/x-python",
   "name": "python",
   "nbconvert_exporter": "python",
   "pygments_lexer": "ipython3",
   "version": "3.10.8"
  }
 },
 "nbformat": 4,
 "nbformat_minor": 5
}
