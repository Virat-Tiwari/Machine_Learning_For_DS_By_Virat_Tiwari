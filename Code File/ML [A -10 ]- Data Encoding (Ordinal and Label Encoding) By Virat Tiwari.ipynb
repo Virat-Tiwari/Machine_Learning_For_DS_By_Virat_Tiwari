{
 "cells": [
  {
   "cell_type": "markdown",
   "id": "687eb0ae-ec17-4afd-9594-1a9e83520a48",
   "metadata": {},
   "source": [
    "# ORDINAL AND LABEL ENCODER"
   ]
  },
  {
   "cell_type": "markdown",
   "id": "9e45f878-ae6f-453e-8a81-26b2fe93f2ea",
   "metadata": {},
   "source": [
    "CASE 1 -LABEL ENCODER"
   ]
  },
  {
   "cell_type": "code",
   "execution_count": 1,
   "id": "6a053838-fde8-44d9-b814-b8effcda3353",
   "metadata": {},
   "outputs": [],
   "source": [
    "import pandas as pd"
   ]
  },
  {
   "cell_type": "code",
   "execution_count": 2,
   "id": "cacdcd1b-8e89-48d6-90c2-5e970b9531ad",
   "metadata": {},
   "outputs": [],
   "source": [
    "from sklearn.preprocessing import LabelEncoder"
   ]
  },
  {
   "cell_type": "code",
   "execution_count": 3,
   "id": "7774a37a-80cd-4223-a782-4b699b70bfde",
   "metadata": {},
   "outputs": [],
   "source": [
    "# Here we create a dataframe with feature \"color\"\n",
    "\n",
    "df=pd.DataFrame({\n",
    "    \"color\":[\"red\",\"blue\",\"green\",\"green\",\"red\",\"blue\"]\n",
    "})"
   ]
  },
  {
   "cell_type": "code",
   "execution_count": 4,
   "id": "6a60b2ab-1e4d-444f-8092-12018adfdd9d",
   "metadata": {},
   "outputs": [
    {
     "data": {
      "text/html": [
       "<div>\n",
       "<style scoped>\n",
       "    .dataframe tbody tr th:only-of-type {\n",
       "        vertical-align: middle;\n",
       "    }\n",
       "\n",
       "    .dataframe tbody tr th {\n",
       "        vertical-align: top;\n",
       "    }\n",
       "\n",
       "    .dataframe thead th {\n",
       "        text-align: right;\n",
       "    }\n",
       "</style>\n",
       "<table border=\"1\" class=\"dataframe\">\n",
       "  <thead>\n",
       "    <tr style=\"text-align: right;\">\n",
       "      <th></th>\n",
       "      <th>color</th>\n",
       "    </tr>\n",
       "  </thead>\n",
       "  <tbody>\n",
       "    <tr>\n",
       "      <th>0</th>\n",
       "      <td>red</td>\n",
       "    </tr>\n",
       "    <tr>\n",
       "      <th>1</th>\n",
       "      <td>blue</td>\n",
       "    </tr>\n",
       "    <tr>\n",
       "      <th>2</th>\n",
       "      <td>green</td>\n",
       "    </tr>\n",
       "    <tr>\n",
       "      <th>3</th>\n",
       "      <td>green</td>\n",
       "    </tr>\n",
       "    <tr>\n",
       "      <th>4</th>\n",
       "      <td>red</td>\n",
       "    </tr>\n",
       "    <tr>\n",
       "      <th>5</th>\n",
       "      <td>blue</td>\n",
       "    </tr>\n",
       "  </tbody>\n",
       "</table>\n",
       "</div>"
      ],
      "text/plain": [
       "   color\n",
       "0    red\n",
       "1   blue\n",
       "2  green\n",
       "3  green\n",
       "4    red\n",
       "5   blue"
      ]
     },
     "execution_count": 4,
     "metadata": {},
     "output_type": "execute_result"
    }
   ],
   "source": [
    "df"
   ]
  },
  {
   "cell_type": "code",
   "execution_count": 6,
   "id": "bbef1a0a-f2ac-4ece-9b7a-708df11a49a2",
   "metadata": {},
   "outputs": [],
   "source": [
    "# Create an instance of label encoder\n",
    "\n",
    "encoder=LabelEncoder()"
   ]
  },
  {
   "cell_type": "code",
   "execution_count": 8,
   "id": "dbb09397-aacb-4d36-903c-776381f5a04b",
   "metadata": {},
   "outputs": [
    {
     "data": {
      "text/plain": [
       "array([2, 0, 1, 1, 2, 0])"
      ]
     },
     "execution_count": 8,
     "metadata": {},
     "output_type": "execute_result"
    }
   ],
   "source": [
    "# fit_transform(df[\"color\"]) function is used for assingninh=g the labels of color like 2 for red , 0 for blue , 1 for green \n",
    "\n",
    "encoder.fit_transform(df[\"color\"])"
   ]
  },
  {
   "cell_type": "markdown",
   "id": "594a4fb4-2462-4f99-b054-81345c5d7630",
   "metadata": {},
   "source": [
    "CASE 2 - For Ranking We have to use ORDINAL ENCODING -\n"
   ]
  },
  {
   "cell_type": "code",
   "execution_count": 9,
   "id": "45486930-da42-4798-a4b2-1492c5dbe093",
   "metadata": {},
   "outputs": [],
   "source": [
    "import pandas as pd\n",
    "from sklearn.preprocessing import OrdinalEncoder"
   ]
  },
  {
   "cell_type": "code",
   "execution_count": 11,
   "id": "de789c87-c774-4ab8-9fd9-f79cea9df5ba",
   "metadata": {},
   "outputs": [],
   "source": [
    "# Here we create a dataframe with feature \"size\"\n",
    "\n",
    "df=pd.DataFrame({\n",
    "    \"size\":[\"small\",\"medium\",\"large\",\"medium\",\"small\",\"large\"]\n",
    "})"
   ]
  },
  {
   "cell_type": "code",
   "execution_count": 12,
   "id": "e08e1dd7-ec6e-40e0-832d-daf8c1deff3b",
   "metadata": {},
   "outputs": [
    {
     "data": {
      "text/html": [
       "<div>\n",
       "<style scoped>\n",
       "    .dataframe tbody tr th:only-of-type {\n",
       "        vertical-align: middle;\n",
       "    }\n",
       "\n",
       "    .dataframe tbody tr th {\n",
       "        vertical-align: top;\n",
       "    }\n",
       "\n",
       "    .dataframe thead th {\n",
       "        text-align: right;\n",
       "    }\n",
       "</style>\n",
       "<table border=\"1\" class=\"dataframe\">\n",
       "  <thead>\n",
       "    <tr style=\"text-align: right;\">\n",
       "      <th></th>\n",
       "      <th>size</th>\n",
       "    </tr>\n",
       "  </thead>\n",
       "  <tbody>\n",
       "    <tr>\n",
       "      <th>0</th>\n",
       "      <td>small</td>\n",
       "    </tr>\n",
       "    <tr>\n",
       "      <th>1</th>\n",
       "      <td>medium</td>\n",
       "    </tr>\n",
       "    <tr>\n",
       "      <th>2</th>\n",
       "      <td>large</td>\n",
       "    </tr>\n",
       "    <tr>\n",
       "      <th>3</th>\n",
       "      <td>medium</td>\n",
       "    </tr>\n",
       "    <tr>\n",
       "      <th>4</th>\n",
       "      <td>small</td>\n",
       "    </tr>\n",
       "    <tr>\n",
       "      <th>5</th>\n",
       "      <td>large</td>\n",
       "    </tr>\n",
       "  </tbody>\n",
       "</table>\n",
       "</div>"
      ],
      "text/plain": [
       "     size\n",
       "0   small\n",
       "1  medium\n",
       "2   large\n",
       "3  medium\n",
       "4   small\n",
       "5   large"
      ]
     },
     "execution_count": 12,
     "metadata": {},
     "output_type": "execute_result"
    }
   ],
   "source": [
    "df"
   ]
  },
  {
   "cell_type": "code",
   "execution_count": 20,
   "id": "e94e1d19-5c28-47be-831c-b6ed87ccdf65",
   "metadata": {},
   "outputs": [],
   "source": [
    "# OrdinalEncoder ( ) is used for assigning the catrgorical data into the numerical data\n",
    "# categories=[ [ ] ] is used for assigning the rank of variable \n",
    "\n",
    "encoder=OrdinalEncoder(categories=[[\"small\",\"medium\",\"large\"]])"
   ]
  },
  {
   "cell_type": "code",
   "execution_count": 21,
   "id": "074117cf-beed-45eb-a8f1-6750eaec099a",
   "metadata": {},
   "outputs": [
    {
     "data": {
      "text/plain": [
       "array([[0.],\n",
       "       [1.],\n",
       "       [2.],\n",
       "       [1.],\n",
       "       [0.],\n",
       "       [2.]])"
      ]
     },
     "execution_count": 21,
     "metadata": {},
     "output_type": "execute_result"
    }
   ],
   "source": [
    "# fit_transform(df[[ ]]) is used for tranforming the data\n",
    "\n",
    "encoder.fit_transform(df[[\"size\"]])"
   ]
  },
  {
   "cell_type": "markdown",
   "id": "e2f522bb-0ba0-4b3c-a469-2784ef916b0e",
   "metadata": {},
   "source": [
    "THANK YOU SO MUCH !!\n",
    "\n",
    "YOURS VIRAT TIWARI :)"
   ]
  }
 ],
 "metadata": {
  "kernelspec": {
   "display_name": "Python 3 (ipykernel)",
   "language": "python",
   "name": "python3"
  },
  "language_info": {
   "codemirror_mode": {
    "name": "ipython",
    "version": 3
   },
   "file_extension": ".py",
   "mimetype": "text/x-python",
   "name": "python",
   "nbconvert_exporter": "python",
   "pygments_lexer": "ipython3",
   "version": "3.10.8"
  }
 },
 "nbformat": 4,
 "nbformat_minor": 5
}
